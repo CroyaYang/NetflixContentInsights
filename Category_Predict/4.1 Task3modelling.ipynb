{
 "cells": [
  {
   "attachments": {},
   "cell_type": "markdown",
   "metadata": {
    "id": "bvaEGzi43CcK"
   },
   "source": [
    "### Modeling using OneVsRest\n",
    "\n",
    "The Multi-Label Text Classification (MLTC) task is a form of text classification in which each text instance can be assigned to multiple categories rather than just a single category.\n",
    "\n",
    "**Goal:** Fit multi-label classification model on the train set. Finally, score on test set.\n",
    "\n",
    "---"
   ]
  },
  {
   "attachments": {},
   "cell_type": "markdown",
   "metadata": {},
   "source": [
    "Use google colab to run. To run locally please comment the following two boxes"
   ]
  },
  {
   "cell_type": "code",
   "execution_count": 1,
   "metadata": {
    "colab": {
     "base_uri": "https://localhost:8080/"
    },
    "executionInfo": {
     "elapsed": 16691,
     "status": "ok",
     "timestamp": 1700274315415,
     "user": {
      "displayName": "keyan yang",
      "userId": "10336205810196000450"
     },
     "user_tz": -480
    },
    "id": "KHZiTubm3DHu",
    "outputId": "71c5837b-a826-4538-b115-e41178b472df"
   },
   "outputs": [
    {
     "name": "stdout",
     "output_type": "stream",
     "text": [
      "Mounted at /content/gdrive\n"
     ]
    }
   ],
   "source": [
    "from google.colab import drive\n",
    "drive.mount('/content/gdrive')"
   ]
  },
  {
   "cell_type": "code",
   "execution_count": 2,
   "metadata": {
    "executionInfo": {
     "elapsed": 527,
     "status": "ok",
     "timestamp": 1700274315940,
     "user": {
      "displayName": "keyan yang",
      "userId": "10336205810196000450"
     },
     "user_tz": -480
    },
    "id": "2UBTCVhP3Dx1"
   },
   "outputs": [],
   "source": [
    "import os\n",
    "os.chdir(\"/content/gdrive/MyDrive/Colab/github/XMTC\")"
   ]
  },
  {
   "cell_type": "code",
   "execution_count": 1,
   "metadata": {
    "executionInfo": {
     "elapsed": 739,
     "status": "ok",
     "timestamp": 1700274316675,
     "user": {
      "displayName": "keyan yang",
      "userId": "10336205810196000450"
     },
     "user_tz": -480
    },
    "id": "yK4zYsrM3CcQ"
   },
   "outputs": [],
   "source": [
    "import numpy as np\n",
    "import pandas as pd\n",
    "pd.set_option('display.max_columns', 500)\n",
    "import matplotlib.pyplot as plt\n",
    "%matplotlib inline\n",
    "import joblib"
   ]
  },
  {
   "cell_type": "markdown",
   "metadata": {
    "id": "8f1JfQIX3CcS"
   },
   "source": [
    "Import train and test dataframes from previous step3.2."
   ]
  },
  {
   "cell_type": "code",
   "execution_count": 2,
   "metadata": {
    "colab": {
     "base_uri": "https://localhost:8080/"
    },
    "executionInfo": {
     "elapsed": 1133,
     "status": "ok",
     "timestamp": 1700275112321,
     "user": {
      "displayName": "keyan yang",
      "userId": "10336205810196000450"
     },
     "user_tz": -480
    },
    "id": "kYKlChFH3CcT",
    "outputId": "a2981ab9-dabc-4251-cbdb-599ed0766780"
   },
   "outputs": [
    {
     "name": "stdout",
     "output_type": "stream",
     "text": [
      "CPU times: total: 688 ms\n",
      "Wall time: 813 ms\n"
     ]
    }
   ],
   "source": [
    "%%time\n",
    "train = pd.read_csv('../dataset/Task3preprocessed/netflix_train_dataframe.tsv', sep='\\t', index_col=0)\n",
    "test = pd.read_csv('../dataset/Task3preprocessed/netflix_test_dataframe.tsv', sep='\\t', index_col=0)"
   ]
  },
  {
   "cell_type": "markdown",
   "metadata": {
    "id": "kMd8GM3L3CcU"
   },
   "source": [
    "Put the genre and other coloum names into lists for easy use later."
   ]
  },
  {
   "cell_type": "code",
   "execution_count": 3,
   "metadata": {
    "executionInfo": {
     "elapsed": 2,
     "status": "ok",
     "timestamp": 1700275113361,
     "user": {
      "displayName": "keyan yang",
      "userId": "10336205810196000450"
     },
     "user_tz": -480
    },
    "id": "oayUx5p3P2Eq"
   },
   "outputs": [],
   "source": [
    "cols = list(train.columns.values)"
   ]
  },
  {
   "cell_type": "code",
   "execution_count": 4,
   "metadata": {
    "colab": {
     "base_uri": "https://localhost:8080/"
    },
    "executionInfo": {
     "elapsed": 2,
     "status": "ok",
     "timestamp": 1700275114896,
     "user": {
      "displayName": "keyan yang",
      "userId": "10336205810196000450"
     },
     "user_tz": -480
    },
    "id": "EZusNX7s3CcV",
    "outputId": "c3b7d48f-b98f-48cb-f534-5e7d6d41e245"
   },
   "outputs": [
    {
     "name": "stdout",
     "output_type": "stream",
     "text": [
      "42\n",
      "['g_Independent Movies', 'g_Faith & Spirituality', 'g_Documentaries', 'g_LGBTQ Movies', 'g_International TV Shows', 'g_TV Thrillers', 'g_TV Dramas', 'g_Stand-Up Comedy & Talk Shows', 'g_Thrillers', 'g_Anime Features', 'g_Science & Nature TV', 'g_TV Horror', 'g_Movies', 'g_Korean TV Shows', 'g_Teen TV Shows', 'g_Action & Adventure', 'g_Crime TV Shows', 'g_Anime Series', 'g_Cult Movies', 'g_Docuseries', 'g_Sci-Fi & Fantasy', 'g_TV Sci-Fi & Fantasy', 'g_Dramas', 'g_Sports Movies', 'g_TV Comedies', 'g_Horror Movies', 'g_Stand-Up Comedy', 'g_British TV Shows', 'g_Music & Musicals', 'g_TV Action & Adventure', 'g_Spanish-Language TV Shows', 'g_TV Mysteries', 'g_Reality TV', 'g_TV Shows', 'g_Comedies', 'g_Romantic TV Shows', 'g_Romantic Movies', \"g_Kids' TV\", 'g_Classic Movies', 'g_International Movies', 'g_Classic & Cult TV', 'g_Children & Family Movies']\n"
     ]
    }
   ],
   "source": [
    "# Filter out categorized target columns\n",
    "genre_cols = cols[-42:]\n",
    "print(len(genre_cols))\n",
    "print(genre_cols)"
   ]
  },
  {
   "cell_type": "code",
   "execution_count": 5,
   "metadata": {
    "executionInfo": {
     "elapsed": 2,
     "status": "ok",
     "timestamp": 1700275116045,
     "user": {
      "displayName": "keyan yang",
      "userId": "10336205810196000450"
     },
     "user_tz": -480
    },
    "id": "1di47JhY3CcV"
   },
   "outputs": [],
   "source": [
    "# Distinguish columns not used in this task\n",
    "f_names = cols[:2]"
   ]
  },
  {
   "cell_type": "markdown",
   "metadata": {
    "id": "6ljFadzd3CcW"
   },
   "source": [
    "Separate out X and y out of our train and test .tsv files. We want JUST the genre columns for `y` and everything except the genre columns for `X`."
   ]
  },
  {
   "cell_type": "code",
   "execution_count": 6,
   "metadata": {
    "executionInfo": {
     "elapsed": 2,
     "status": "ok",
     "timestamp": 1700275117704,
     "user": {
      "displayName": "keyan yang",
      "userId": "10336205810196000450"
     },
     "user_tz": -480
    },
    "id": "tg6UtiNV3CcX"
   },
   "outputs": [],
   "source": [
    "y_train = train[train.columns[ train.columns.isin(genre_cols)]]\n",
    "X_train = train[train.columns[~train.columns.isin(genre_cols + f_names)]]\n",
    "\n",
    "X_test = test[test.columns[~test.columns.isin(genre_cols + f_names)]]\n",
    "y_test = test[test.columns[ test.columns.isin(genre_cols)]]"
   ]
  },
  {
   "cell_type": "markdown",
   "metadata": {
    "id": "I6ayJpYv3CcY"
   },
   "source": [
    "---\n",
    "\n",
    "Before running a model, we need to scale our data. Both standard and min-max were tested, but standard scaler came out on top."
   ]
  },
  {
   "cell_type": "code",
   "execution_count": 7,
   "metadata": {
    "colab": {
     "base_uri": "https://localhost:8080/"
    },
    "executionInfo": {
     "elapsed": 332,
     "status": "ok",
     "timestamp": 1700275119987,
     "user": {
      "displayName": "keyan yang",
      "userId": "10336205810196000450"
     },
     "user_tz": -480
    },
    "id": "yDvqlMG53CcY",
    "outputId": "37da12ec-9bf3-485b-c859-366c00cfb742"
   },
   "outputs": [
    {
     "name": "stdout",
     "output_type": "stream",
     "text": [
      "CPU times: total: 250 ms\n",
      "Wall time: 906 ms\n"
     ]
    },
    {
     "data": {
      "text/plain": [
       "['models/netflix_standard_scaler.pkl']"
      ]
     },
     "execution_count": 7,
     "metadata": {},
     "output_type": "execute_result"
    }
   ],
   "source": [
    "%%time\n",
    "# Scale data (Standard Scaler)\n",
    "from sklearn.preprocessing import StandardScaler\n",
    "\n",
    "# Creating a StandardScaler object and fitting it to the training data\n",
    "my_standard_scaler = StandardScaler().fit(X_train)\n",
    "\n",
    "# Transforming the data using the fitted scaler\n",
    "X_train_s = my_standard_scaler.transform(X_train)\n",
    "X_test_s = my_standard_scaler.transform(X_test)\n",
    "\n",
    "# Saving the fitted scaler model to a file using joblib\n",
    "joblib.dump(my_standard_scaler, 'models/netflix_standard_scaler.pkl')"
   ]
  },
  {
   "cell_type": "code",
   "execution_count": 8,
   "metadata": {
    "executionInfo": {
     "elapsed": 314,
     "status": "ok",
     "timestamp": 1700275125087,
     "user": {
      "displayName": "keyan yang",
      "userId": "10336205810196000450"
     },
     "user_tz": -480
    },
    "id": "zDIjkwUH3CcZ"
   },
   "outputs": [
    {
     "data": {
      "text/plain": [
       "['models/netflix_scaler.pkl']"
      ]
     },
     "execution_count": 8,
     "metadata": {},
     "output_type": "execute_result"
    }
   ],
   "source": [
    "# Scale data (MinMax Scaler)\n",
    "from sklearn.preprocessing import MinMaxScaler\n",
    "my_minmax_scaler = MinMaxScaler().fit(X_train)\n",
    "X_train_mm = my_minmax_scaler.transform(X_train)\n",
    "X_test_mm = my_minmax_scaler.transform(X_test)\n",
    "\n",
    "joblib.dump(my_minmax_scaler, 'models/netflix_scaler.pkl')"
   ]
  },
  {
   "cell_type": "markdown",
   "metadata": {
    "id": "R6YMQwuG3CcZ"
   },
   "source": [
    "MANY models were tested and pkl'd.\n",
    "\n",
    "In the end, we find OneVsRest with Logistic Regression (C=0.01, solver='lbfgs') when scaled with a standard scaler was the best option.\n",
    "\n",
    "**Below is the final best model. **"
   ]
  },
  {
   "cell_type": "code",
   "execution_count": 9,
   "metadata": {
    "executionInfo": {
     "elapsed": 302,
     "status": "ok",
     "timestamp": 1700275129446,
     "user": {
      "displayName": "keyan yang",
      "userId": "10336205810196000450"
     },
     "user_tz": -480
    },
    "id": "kV70TAow3Cca"
   },
   "outputs": [],
   "source": [
    "import joblib"
   ]
  },
  {
   "cell_type": "code",
   "execution_count": 10,
   "metadata": {
    "executionInfo": {
     "elapsed": 302,
     "status": "ok",
     "timestamp": 1700275132062,
     "user": {
      "displayName": "keyan yang",
      "userId": "10336205810196000450"
     },
     "user_tz": -480
    },
    "id": "TgpgDPyh3Cca"
   },
   "outputs": [],
   "source": [
    "from sklearn.multiclass import OneVsRestClassifier\n",
    "from sklearn.svm import LinearSVC\n",
    "from sklearn.linear_model import LogisticRegression"
   ]
  },
  {
   "cell_type": "markdown",
   "metadata": {},
   "source": [
    "---\n",
    "\n",
    "# One-vs-Rest\n",
    "\n",
    "在机器学习中，One-vs-Rest (OvR) 是一种多类别分类的策略。当面临一个多类别分类问题时，OvR 策略将其转化为多个二分类问题的组合。具体来说，对于每个类别，都训练一个二分类器，该分类器负责区分该类别和其他所有类别。在预测时，通过所有二分类器的输出，选择具有最高概率的类别作为最终的预测结果。\n",
    "\n",
    "在我们的工作中，用scikit-learn库中的类OneVsRestClassifier实现了这个 OvR 策略。在此基础上，Logistic Regression 被用作基础模型，每个类别都有一个对应的 Logistic Regression 二分类器。这样的策略被证实对于处理多类别问题是直观且有效的，因为它将原始问题分解为一系列更简单的二分类问题。\n",
    "\n",
    "---\n",
    "\n",
    "# cross-validation\n",
    "\n",
    "在机器学习中，使用交叉验证（cross-validation）是为了更准确地评估模型的性能，特别是在数据集较小的情况下。它有助于确保模型的性能评估不会受到数据集划分的随机性影响过大。\n",
    "\n",
    "交叉验证的基本思想是将数据集划分为训练集和测试集，然后多次重复这个过程，每次使用不同的划分。最常见的一种形式是k折交叉验证（k-fold cross-validation），其中数据集被分成k个子集（或折叠），模型在其中的k次训练-测试过程中进行评估。这样，每个子集都有机会成为测试集，模型的性能评估就是这k次评估的平均值。\n",
    "\n",
    "交叉验证的优势在于：\n",
    "\n",
    "* 减少过拟合风险： 通过多次使用不同的训练集和测试集，模型更有可能捕捉到数据中的模式，而不仅仅是依赖于特定的训练集。\n",
    "\n",
    "* 更可靠的性能评估： 通过多次评估的平均值，我们可以得到更可靠的性能指标，减少了因为特定划分而引起的评估结果的偶然性。\n",
    "\n",
    "* 充分利用数据： 在训练和测试集的选择上更加充分，每个样本都有机会出现在训练集和测试集中，提高了数据的利用效率。\n",
    "\n",
    "在我们的工作中，cross_val_score函数使用了5折交叉验证，即k=5。这意味着模型将在数据的五个不同子集上进行五次训练和测试，然后返回五个性能评估分数，最后通过打印这些分数和它们的平均值来评估模型的性能。"
   ]
  },
  {
   "cell_type": "code",
   "execution_count": 11,
   "metadata": {
    "colab": {
     "base_uri": "https://localhost:8080/"
    },
    "executionInfo": {
     "elapsed": 36293,
     "status": "ok",
     "timestamp": 1700275169555,
     "user": {
      "displayName": "keyan yang",
      "userId": "10336205810196000450"
     },
     "user_tz": -480
    },
    "id": "OeRetzEh3Cca",
    "outputId": "a2f19c08-7dfa-4513-ea5f-7a96bc557e72"
   },
   "outputs": [
    {
     "name": "stdout",
     "output_type": "stream",
     "text": [
      "[0.08402725 0.10370931 0.08629826 0.08856927 0.07948524]\n",
      "Fold 1: 0.08402725208175625\n",
      "Fold 2: 0.10370931112793338\n",
      "Fold 3: 0.08629825889477669\n",
      "Fold 4: 0.08856926570779712\n",
      "Fold 5: 0.07948523845571537\n",
      "Average Score:0.08841786525359575\n"
     ]
    }
   ],
   "source": [
    "\n",
    "from sklearn.model_selection import cross_val_score\n",
    "\n",
    "# Creating a One-vs-Rest classifier using Logistic Regression as the base model\n",
    "my_log_model = OneVsRestClassifier(LogisticRegression(random_state=123, solver='lbfgs', max_iter=3000, C=0.01, n_jobs=-1), n_jobs=-1)\n",
    "\n",
    "# Performing cross-validation and obtaining the scores\n",
    "scores = cross_val_score(my_log_model, X_train_s, y_train, cv = 5)\n",
    "print(scores)\n",
    "\n",
    "# Printing individual fold scores\n",
    "for i in range(len(scores)) :\n",
    "    print(f\"Fold {i+1}: {scores[i]}\")\n",
    "print(f\"Average Score:{np.mean(scores)}\")"
   ]
  },
  {
   "cell_type": "code",
   "execution_count": 12,
   "metadata": {
    "colab": {
     "base_uri": "https://localhost:8080/"
    },
    "executionInfo": {
     "elapsed": 16086,
     "status": "ok",
     "timestamp": 1700275203277,
     "user": {
      "displayName": "keyan yang",
      "userId": "10336205810196000450"
     },
     "user_tz": -480
    },
    "id": "0CZ8YdFa3Ccb",
    "outputId": "d184f72a-b9e2-4aff-a72b-1aff3c2f9308"
   },
   "outputs": [
    {
     "name": "stdout",
     "output_type": "stream",
     "text": [
      "CPU times: total: 203 ms\n",
      "Wall time: 10.8 s\n"
     ]
    }
   ],
   "source": [
    "%%time\n",
    "# fit (data to a model)\n",
    "my_log_model = OneVsRestClassifier(LogisticRegression(random_state=123, solver='lbfgs', max_iter=3000, C=0.01, n_jobs=-1), n_jobs=-1).fit(X_train_s, y_train)"
   ]
  },
  {
   "cell_type": "markdown",
   "metadata": {},
   "source": [
    "---\n",
    "Predict"
   ]
  },
  {
   "cell_type": "code",
   "execution_count": 13,
   "metadata": {
    "executionInfo": {
     "elapsed": 1924,
     "status": "ok",
     "timestamp": 1700275207655,
     "user": {
      "displayName": "keyan yang",
      "userId": "10336205810196000450"
     },
     "user_tz": -480
    },
    "id": "KQN7lxra3Ccb"
   },
   "outputs": [],
   "source": [
    "y_train_pred = my_log_model.predict(X_train_s)\n",
    "y_train_proba = my_log_model.predict_proba(X_train_s)\n",
    "y_test_pred = my_log_model.predict(X_test_s)\n",
    "y_test_proba = my_log_model.predict_proba(X_test_s)"
   ]
  },
  {
   "cell_type": "code",
   "execution_count": 14,
   "metadata": {
    "colab": {
     "base_uri": "https://localhost:8080/"
    },
    "executionInfo": {
     "elapsed": 330,
     "status": "ok",
     "timestamp": 1700275211297,
     "user": {
      "displayName": "keyan yang",
      "userId": "10336205810196000450"
     },
     "user_tz": -480
    },
    "id": "6zZG3tm-3Ccb",
    "outputId": "4032b916-9332-4eaa-8773-a54f00ad251b"
   },
   "outputs": [
    {
     "name": "stdout",
     "output_type": "stream",
     "text": [
      "Training score: 0.24557\n",
      "    Test score: 0.08583\n"
     ]
    }
   ],
   "source": [
    "from sklearn.metrics import accuracy_score\n",
    "print(f'Training score: {accuracy_score(y_train, y_train_pred):0.5f}')\n",
    "print(f'    Test score: {accuracy_score(y_test, y_test_pred):0.5f}')"
   ]
  },
  {
   "cell_type": "markdown",
   "metadata": {},
   "source": [
    "---\n",
    "Prediction results for the test set: \n",
    "\n",
    "the accuracy is calculated for each category and the results are printed out."
   ]
  },
  {
   "cell_type": "code",
   "execution_count": 15,
   "metadata": {
    "colab": {
     "base_uri": "https://localhost:8080/"
    },
    "executionInfo": {
     "elapsed": 302,
     "status": "ok",
     "timestamp": 1700275215618,
     "user": {
      "displayName": "keyan yang",
      "userId": "10336205810196000450"
     },
     "user_tz": -480
    },
    "id": "oumAEYdq3Ccc",
    "outputId": "bd73bd5c-84da-46e9-fc2b-d7e12ee61d57"
   },
   "outputs": [
    {
     "name": "stdout",
     "output_type": "stream",
     "text": [
      "0.8987  g_Independent Movies\n",
      "0.9927  g_Faith & Spirituality\n",
      "0.9314  g_Documentaries\n",
      "0.9914  g_LGBTQ Movies\n",
      "0.8279  g_International TV Shows\n",
      "0.9923  g_TV Thrillers\n",
      "0.8946  g_TV Dramas\n",
      "0.9923  g_Stand-Up Comedy & Talk Shows\n",
      "0.9223  g_Thrillers\n",
      "0.9932  g_Anime Features\n",
      "0.9905  g_Science & Nature TV\n",
      "0.9891  g_TV Horror\n",
      "0.9936  g_Movies\n",
      "0.9837  g_Korean TV Shows\n",
      "0.9927  g_Teen TV Shows\n",
      "0.9005  g_Action & Adventure\n",
      "0.9387  g_Crime TV Shows\n",
      "0.9805  g_Anime Series\n",
      "0.9936  g_Cult Movies\n",
      "0.9655  g_Docuseries\n",
      "0.9696  g_Sci-Fi & Fantasy\n",
      "0.9927  g_TV Sci-Fi & Fantasy\n",
      "0.7439  g_Dramas\n",
      "0.9791  g_Sports Movies\n",
      "0.9214  g_TV Comedies\n",
      "0.9623  g_Horror Movies\n",
      "0.9777  g_Stand-Up Comedy\n",
      "0.9687  g_British TV Shows\n",
      "0.9605  g_Music & Musicals\n",
      "0.9782  g_TV Action & Adventure\n",
      "0.9791  g_Spanish-Language TV Shows\n",
      "0.9886  g_TV Mysteries\n",
      "0.9709  g_Reality TV\n",
      "0.9995  g_TV Shows\n",
      "0.8102  g_Comedies\n",
      "0.9569  g_Romantic TV Shows\n",
      "0.9187  g_Romantic Movies\n",
      "0.9605  g_Kids' TV\n",
      "0.9868  g_Classic Movies\n",
      "0.7039  g_International Movies\n",
      "0.9946  g_Classic & Cult TV\n",
      "0.9323  g_Children & Family Movies\n"
     ]
    }
   ],
   "source": [
    "y_pred_df = pd.DataFrame(y_test_pred, columns=genre_cols)\n",
    "\n",
    "# Test set predictions\n",
    "for g in genre_cols:\n",
    "    score = accuracy_score(y_test[g], y_pred_df[g])\n",
    "    print(f'{score:0.4f}  {g}')"
   ]
  },
  {
   "cell_type": "code",
   "execution_count": 16,
   "metadata": {
    "colab": {
     "base_uri": "https://localhost:8080/"
    },
    "executionInfo": {
     "elapsed": 309,
     "status": "ok",
     "timestamp": 1700275387122,
     "user": {
      "displayName": "keyan yang",
      "userId": "10336205810196000450"
     },
     "user_tz": -480
    },
    "id": "FJ2gWEmxT0-H",
    "outputId": "b05a2070-667e-4a63-d314-603d70c04838"
   },
   "outputs": [
    {
     "data": {
      "text/plain": [
       "['models/netflix_logistic_model.pkl']"
      ]
     },
     "execution_count": 16,
     "metadata": {},
     "output_type": "execute_result"
    }
   ],
   "source": [
    "joblib.dump(my_log_model, 'models/netflix_logistic_model.pkl') # save the model"
   ]
  },
  {
   "cell_type": "code",
   "execution_count": 17,
   "metadata": {
    "id": "20i8fQH43Cce"
   },
   "outputs": [
    {
     "name": "stdout",
     "output_type": "stream",
     "text": [
      "0.8987  g_Independent Movies\n",
      "0.9927  g_Faith & Spirituality\n",
      "0.9314  g_Documentaries\n",
      "0.9914  g_LGBTQ Movies\n",
      "0.8279  g_International TV Shows\n",
      "0.9923  g_TV Thrillers\n",
      "0.8946  g_TV Dramas\n",
      "0.9923  g_Stand-Up Comedy & Talk Shows\n",
      "0.9223  g_Thrillers\n",
      "0.9932  g_Anime Features\n",
      "0.9905  g_Science & Nature TV\n",
      "0.9891  g_TV Horror\n",
      "0.9936  g_Movies\n",
      "0.9837  g_Korean TV Shows\n",
      "0.9927  g_Teen TV Shows\n",
      "0.9005  g_Action & Adventure\n",
      "0.9387  g_Crime TV Shows\n",
      "0.9805  g_Anime Series\n",
      "0.9936  g_Cult Movies\n",
      "0.9655  g_Docuseries\n",
      "0.9696  g_Sci-Fi & Fantasy\n",
      "0.9927  g_TV Sci-Fi & Fantasy\n",
      "0.7439  g_Dramas\n",
      "0.9791  g_Sports Movies\n",
      "0.9214  g_TV Comedies\n",
      "0.9623  g_Horror Movies\n",
      "0.9777  g_Stand-Up Comedy\n",
      "0.9687  g_British TV Shows\n",
      "0.9605  g_Music & Musicals\n",
      "0.9782  g_TV Action & Adventure\n",
      "0.9791  g_Spanish-Language TV Shows\n",
      "0.9886  g_TV Mysteries\n",
      "0.9709  g_Reality TV\n",
      "0.9995  g_TV Shows\n",
      "0.8102  g_Comedies\n",
      "0.9569  g_Romantic TV Shows\n",
      "0.9187  g_Romantic Movies\n",
      "0.9605  g_Kids' TV\n",
      "0.9868  g_Classic Movies\n",
      "0.7039  g_International Movies\n",
      "0.9946  g_Classic & Cult TV\n",
      "0.9323  g_Children & Family Movies\n"
     ]
    }
   ],
   "source": [
    "test_acc_dict = {}\n",
    "# Test set predictions\n",
    "for g in genre_cols:\n",
    "    score = accuracy_score(y_test[g], y_pred_df[g])\n",
    "    test_acc_dict.update( {g[2:] : score} )\n",
    "    print(f'{score:0.4f}  {g}')"
   ]
  },
  {
   "cell_type": "code",
   "execution_count": null,
   "metadata": {},
   "outputs": [],
   "source": []
  }
 ],
 "metadata": {
  "accelerator": "GPU",
  "colab": {
   "gpuType": "T4",
   "provenance": []
  },
  "kernelspec": {
   "display_name": "Python 3 (ipykernel)",
   "language": "python",
   "name": "python3"
  },
  "language_info": {
   "codemirror_mode": {
    "name": "ipython",
    "version": 3
   },
   "file_extension": ".py",
   "mimetype": "text/x-python",
   "name": "python",
   "nbconvert_exporter": "python",
   "pygments_lexer": "ipython3",
   "version": "3.9.4"
  },
  "vscode": {
   "interpreter": {
    "hash": "865d8b2eb28e274047ba64063dfb6a2aabf0dfec4905d304d7a76618dae6fdd4"
   }
  }
 },
 "nbformat": 4,
 "nbformat_minor": 4
}
