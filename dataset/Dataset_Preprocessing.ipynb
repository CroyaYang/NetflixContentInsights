{
 "cells": [
  {
   "attachments": {},
   "cell_type": "markdown",
   "metadata": {},
   "source": [
    "# Data Clean\n",
    "\n",
    "In this section, the dataset was cleaned by detecting the outliers and supplementing the default values.\n",
    "\n",
    "Also, in order to complete the task of grading the rating of the works, the types of labels graded in the dataset were visualized. \n",
    "\n",
    "It was clear that the 14 label numbers varied too much. To solve the problem of severe imbalance of categories, we reclassified the four categories 'Teens', 'Adults', 'Older Kids', and 'Kids' according to the age of the target population of the 14 Ratings. \n",
    "\n",
    "The problem of category imbalance in the dataset is alleviated to some extent."
   ]
  },
  {
   "cell_type": "code",
   "execution_count": 1,
   "metadata": {},
   "outputs": [],
   "source": [
    "import pandas as pd\n",
    "import numpy as np   \n",
    "import matplotlib.pyplot as plt  \n",
    "import seaborn as sns \n",
    "import warnings\n",
    "warnings.filterwarnings(\"ignore\")"
   ]
  },
  {
   "cell_type": "code",
   "execution_count": 2,
   "metadata": {},
   "outputs": [],
   "source": [
    "df = pd.read_csv('original/netflix_titles.csv')"
   ]
  },
  {
   "cell_type": "code",
   "execution_count": 3,
   "metadata": {},
   "outputs": [
    {
     "name": "stdout",
     "output_type": "stream",
     "text": [
      "<class 'pandas.core.frame.DataFrame'>\n",
      "RangeIndex: 8807 entries, 0 to 8806\n",
      "Data columns (total 12 columns):\n",
      " #   Column        Non-Null Count  Dtype \n",
      "---  ------        --------------  ----- \n",
      " 0   show_id       8807 non-null   object\n",
      " 1   type          8807 non-null   object\n",
      " 2   title         8807 non-null   object\n",
      " 3   director      6173 non-null   object\n",
      " 4   cast          7982 non-null   object\n",
      " 5   country       7976 non-null   object\n",
      " 6   date_added    8797 non-null   object\n",
      " 7   release_year  8807 non-null   int64 \n",
      " 8   rating        8803 non-null   object\n",
      " 9   duration      8804 non-null   object\n",
      " 10  listed_in     8807 non-null   object\n",
      " 11  description   8807 non-null   object\n",
      "dtypes: int64(1), object(11)\n",
      "memory usage: 825.8+ KB\n"
     ]
    }
   ],
   "source": [
    "df.info()"
   ]
  },
  {
   "cell_type": "code",
   "execution_count": 4,
   "metadata": {},
   "outputs": [
    {
     "data": {
      "text/plain": [
       "0"
      ]
     },
     "execution_count": 4,
     "metadata": {},
     "output_type": "execute_result"
    }
   ],
   "source": [
    "df.duplicated().sum() #check for duplicate value"
   ]
  },
  {
   "cell_type": "code",
   "execution_count": 5,
   "metadata": {},
   "outputs": [
    {
     "data": {
      "text/plain": [
       "show_id            0\n",
       "type               0\n",
       "title              0\n",
       "director        2634\n",
       "cast             825\n",
       "country          831\n",
       "date_added        10\n",
       "release_year       0\n",
       "rating             4\n",
       "duration           3\n",
       "listed_in          0\n",
       "description        0\n",
       "dtype: int64"
      ]
     },
     "execution_count": 5,
     "metadata": {},
     "output_type": "execute_result"
    }
   ],
   "source": [
    "df.isna().sum() #check for null value"
   ]
  },
  {
   "cell_type": "code",
   "execution_count": 6,
   "metadata": {},
   "outputs": [
    {
     "data": {
      "image/png": "[encoded data removed]",
      "text/plain": [
       "<Figure size 640x480 with 1 Axes>"
      ]
     },
     "metadata": {},
     "output_type": "display_data"
    }
   ],
   "source": [
    "Perc_Missing_Values=(df.isna().sum()/df.shape[0])*100\n",
    "Perc_Missing_Values\n",
    "#Perc_Missing_Values[Perc_Missing_Values!=0]\n",
    "Perc_Missing_Values.plot(kind=\"bar\")\n",
    "plt.title(\"Percentage of Missing Values\")\n",
    "plt.show()"
   ]
  },
  {
   "attachments": {},
   "cell_type": "markdown",
   "metadata": {},
   "source": [
    "\"show_id\": Not that important. So will be dropped.\n",
    "\n",
    "\"director\": Percentage of missing values are more. So will be dropped.\n",
    "\n",
    "\"cast\": there are too many diferent values. So will be dropped.\n",
    "\n",
    "\"country\":Important variable hence we need to fix this.\n",
    "\n",
    "\"date_added\": It is important so I need to fix it.\n",
    "\n",
    "\"rating\": It is important so I need to fix it."
   ]
  },
  {
   "cell_type": "code",
   "execution_count": 7,
   "metadata": {},
   "outputs": [],
   "source": [
    "#Drop (cast,director,show id,description) columns:\n",
    "\n",
    "df.drop(\"cast\",axis=1,inplace=True)\n",
    "df.drop(\"director\",axis=1,inplace=True)\n",
    "df.drop(\"show_id\",axis=1,inplace=True)"
   ]
  },
  {
   "cell_type": "code",
   "execution_count": 8,
   "metadata": {},
   "outputs": [],
   "source": [
    "#Fill the missing values:\n",
    "\n",
    "df[\"country\"]=df[\"country\"].fillna(df[\"country\"].mode()[0])\n",
    "df[\"rating\"]=df[\"rating\"].fillna(df[\"rating\"].mode()[0])"
   ]
  },
  {
   "cell_type": "code",
   "execution_count": 9,
   "metadata": {},
   "outputs": [],
   "source": [
    "#We will drop those Rows.They are only 10 Rows .Becoz it is difficult to add date of those Rows\n",
    "df=df[df[\"date_added\"].notna()]\n",
    "df=df.dropna()"
   ]
  },
  {
   "cell_type": "code",
   "execution_count": 10,
   "metadata": {},
   "outputs": [
    {
     "data": {
      "text/plain": [
       "type            0\n",
       "title           0\n",
       "country         0\n",
       "date_added      0\n",
       "release_year    0\n",
       "rating          0\n",
       "duration        0\n",
       "listed_in       0\n",
       "description     0\n",
       "dtype: int64"
      ]
     },
     "execution_count": 10,
     "metadata": {},
     "output_type": "execute_result"
    }
   ],
   "source": [
    "#Check the Cleaned dataset\n",
    "\n",
    "df.isna().sum()"
   ]
  },
  {
   "cell_type": "code",
   "execution_count": 11,
   "metadata": {},
   "outputs": [
    {
     "data": {
      "text/plain": [
       "array(['PG-13', 'TV-MA', 'PG', 'TV-14', 'TV-PG', 'TV-Y', 'TV-Y7', 'R',\n",
       "       'TV-G', 'G', 'NC-17', 'NR', 'TV-Y7-FV', 'UR'], dtype=object)"
      ]
     },
     "execution_count": 11,
     "metadata": {},
     "output_type": "execute_result"
    }
   ],
   "source": [
    "df[\"rating\"].unique() #list of unique rating"
   ]
  },
  {
   "cell_type": "code",
   "execution_count": 12,
   "metadata": {},
   "outputs": [
    {
     "data": {
      "image/png": "[encoded data removed]",
      "text/plain": [
       "<Figure size 1000x600 with 1 Axes>"
      ]
     },
     "metadata": {},
     "output_type": "display_data"
    }
   ],
   "source": [
    "plt.figure(figsize=(10, 6))\n",
    "df['rating'].value_counts().sort_index().plot(kind='bar', color='skyblue')\n",
    "plt.title('Distribution of Ratings on Netflix')\n",
    "plt.xlabel('Rating')\n",
    "plt.ylabel('Number of Titles')\n",
    "plt.show()"
   ]
  },
  {
   "attachments": {},
   "cell_type": "markdown",
   "metadata": {},
   "source": [
    "PG-13: Parental Guidance Suggested - Some material may be inappropriate for children under 13.\n",
    "\n",
    "TV-MA: Mature Audience - Content is specifically designed to be viewed by adults and may be unsuitable for children under 17.\n",
    "\n",
    "PG: Parental Guidance Suggested - Some material may not be suitable for children.\n",
    "\n",
    "TV-14: Parents Strongly Cautioned - Content may be unsuitable for children under 14.\n",
    "\n",
    "TV-PG: Parental Guidance Suggested - Some material may not be suitable for children under 7.\n",
    "\n",
    "TV-Y: All Children - Content is suitable for all ages.\n",
    "\n",
    "TV-Y7: Directed to Older Children - Content is suitable for children age 7 and above.\n",
    "\n",
    "R: Restricted - Restricted to viewers over the age of 17 (under 17 requires accompanying parent or adult guardian).\n",
    "\n",
    "TV-G: General Audience - All ages are admitted.\n",
    "\n",
    "G: General Audience - All ages are admitted.\n",
    "\n",
    "NC-17: No One 17 and Under Admitted - Content is not suitable for viewers under 17.\n",
    "\n",
    "NR: Not Rated - Content has not been assigned a specific rating.\n",
    "\n",
    "TV-Y7-FV: Directed to Older Children - Fantasy Violence - Similar to TV-Y7, but may contain more intense fantasy violence.\n",
    "\n",
    "UR: Unrated - Similar to \"Not Rated,\" indicating that no official rating has been assigned to the content."
   ]
  },
  {
   "cell_type": "code",
   "execution_count": 13,
   "metadata": {},
   "outputs": [],
   "source": [
    "ratings_ages = {\n",
    "    'TV-PG': 'Older Kids',\n",
    "    'TV-MA': 'Adults',\n",
    "    'TV-Y7-FV': 'Older Kids',\n",
    "    'TV-Y7': 'Older Kids',\n",
    "    'TV-14': 'Teens', \n",
    "    'R': 'Adults',\n",
    "    'TV-Y': 'Kids',\n",
    "    'NR': 'Adults',\n",
    "    'PG-13': 'Teens',\n",
    "    'TV-G': 'Kids',\n",
    "    'PG': 'Older Kids',\n",
    "    'G': 'Kids',\n",
    "    'UR': 'Adults',\n",
    "    'NC-17': 'Adults'\n",
    "}  #replacing ratings ages with some category (older kids-5 to 12 , adults-above 18years , teens-"
   ]
  },
  {
   "cell_type": "code",
   "execution_count": 14,
   "metadata": {},
   "outputs": [
    {
     "data": {
      "text/plain": [
       "array(['Teens', 'Adults', 'Older Kids', 'Kids'], dtype=object)"
      ]
     },
     "execution_count": 14,
     "metadata": {},
     "output_type": "execute_result"
    }
   ],
   "source": [
    "df['target_ages'] = df['rating'].replace(ratings_ages)  #replace the ratings with above category\n",
    "df['target_ages'].unique() "
   ]
  },
  {
   "cell_type": "code",
   "execution_count": 15,
   "metadata": {},
   "outputs": [
    {
     "data": {
      "image/png": "[encoded data removed]",
      "text/plain": [
       "<Figure size 1000x600 with 1 Axes>"
      ]
     },
     "metadata": {},
     "output_type": "display_data"
    }
   ],
   "source": [
    "plt.figure(figsize=(10, 6))\n",
    "df['target_ages'].value_counts().sort_index().plot(kind='bar', color='skyblue')\n",
    "plt.title('Distribution of target_ages on Netflix')\n",
    "plt.xlabel('target_ages')\n",
    "plt.ylabel('Number of Titles')\n",
    "plt.show()"
   ]
  },
  {
   "cell_type": "code",
   "execution_count": 16,
   "metadata": {},
   "outputs": [],
   "source": [
    "df.rename(columns={'list_in': 'category'}, inplace=True)"
   ]
  },
  {
   "cell_type": "code",
   "execution_count": 17,
   "metadata": {},
   "outputs": [],
   "source": [
    "output_path = \"preprocessed/netflix_targeted_ages.csv\"\n",
    "df.to_csv(output_path, index=False) # save"
   ]
  },
  {
   "attachments": {},
   "cell_type": "markdown",
   "metadata": {},
   "source": [
    "# Text preprocessing for 'description'"
   ]
  },
  {
   "cell_type": "code",
   "execution_count": 18,
   "metadata": {},
   "outputs": [],
   "source": [
    "import re\n",
    "from nltk.tokenize import word_tokenize\n",
    "from nltk.corpus import stopwords\n",
    "from nltk.stem import PorterStemmer"
   ]
  },
  {
   "cell_type": "code",
   "execution_count": 19,
   "metadata": {},
   "outputs": [],
   "source": [
    "def preprocess_text(text):\n",
    "    \n",
    "    text = text.lower()\n",
    "    \n",
    "    text = re.sub(r'[^\\w\\s]', '', text)\n",
    "    \n",
    "    tokens = word_tokenize(text)\n",
    "    \n",
    "    stop_words = set(stopwords.words('english'))\n",
    "    tokens = [token for token in tokens if token not in stop_words]\n",
    "    \n",
    "    stemmer = PorterStemmer()\n",
    "    tokens = [stemmer.stem(token) for token in tokens]\n",
    "    \n",
    "    return ' '.join(tokens)"
   ]
  },
  {
   "cell_type": "code",
   "execution_count": 20,
   "metadata": {},
   "outputs": [
    {
     "name": "stdout",
     "output_type": "stream",
     "text": [
      "      type                  title        country          date_added  \\\n",
      "0    Movie   Dick Johnson Is Dead  United States  September 25, 2021   \n",
      "1  TV Show          Blood & Water   South Africa  September 24, 2021   \n",
      "2  TV Show              Ganglands  United States  September 24, 2021   \n",
      "3  TV Show  Jailbirds New Orleans  United States  September 24, 2021   \n",
      "4  TV Show           Kota Factory          India  September 24, 2021   \n",
      "\n",
      "   release_year rating   duration  \\\n",
      "0          2020  PG-13     90 min   \n",
      "1          2021  TV-MA  2 Seasons   \n",
      "2          2021  TV-MA   1 Season   \n",
      "3          2021  TV-MA   1 Season   \n",
      "4          2021  TV-MA  2 Seasons   \n",
      "\n",
      "                                           listed_in  \\\n",
      "0                                      Documentaries   \n",
      "1    International TV Shows, TV Dramas, TV Mysteries   \n",
      "2  Crime TV Shows, International TV Shows, TV Act...   \n",
      "3                             Docuseries, Reality TV   \n",
      "4  International TV Shows, Romantic TV Shows, TV ...   \n",
      "\n",
      "                                         description target_ages  \n",
      "0  father near end life filmmak kirsten johnson s...       Teens  \n",
      "1  cross path parti cape town teen set prove whet...      Adults  \n",
      "2  protect famili power drug lord skill thief meh...      Adults  \n",
      "3  feud flirtat toilet talk go among incarcer wom...      Adults  \n",
      "4  citi coach center known train india finest col...      Adults  \n"
     ]
    }
   ],
   "source": [
    "file_path = 'preprocessed/netflix_targeted_ages.csv'\n",
    "preprocessed_data = pd.read_csv(file_path)\n",
    "\n",
    "preprocessed_data['description'] = preprocessed_data['description'].apply(preprocess_text)\n",
    "\n",
    "output_path = \"preprocessed/netflix_processed.csv\"\n",
    "\n",
    "preprocessed_data.to_csv(file_path, index=False) # save\n",
    "print(preprocessed_data.head())"
   ]
  },
  {
   "attachments": {},
   "cell_type": "markdown",
   "metadata": {},
   "source": [
    "# Dataset split"
   ]
  },
  {
   "attachments": {},
   "cell_type": "markdown",
   "metadata": {},
   "source": [
    "Split ratio: 7: 1.5: 1.5"
   ]
  },
  {
   "cell_type": "code",
   "execution_count": 21,
   "metadata": {},
   "outputs": [],
   "source": [
    "from sklearn.model_selection import train_test_split\n",
    "\n",
    "preprocessed_data = pd.read_csv(file_path)"
   ]
  },
  {
   "cell_type": "code",
   "execution_count": 22,
   "metadata": {},
   "outputs": [],
   "source": [
    "shuffled_data = preprocessed_data.sample(frac=1, random_state=42)\n",
    "\n",
    "train_data, temp_data = train_test_split(shuffled_data, test_size=0.3, random_state=42)\n",
    "val_data, test_data = train_test_split(temp_data, test_size=0.5, random_state=42)"
   ]
  },
  {
   "cell_type": "code",
   "execution_count": 23,
   "metadata": {},
   "outputs": [
    {
     "name": "stdout",
     "output_type": "stream",
     "text": [
      "train sample：6155\n",
      "val sample：1319\n",
      "test sample：1320\n"
     ]
    }
   ],
   "source": [
    "# Dataset split\n",
    "from sklearn.model_selection import train_test_split\n",
    "\n",
    "preprocessed_data = pd.read_csv(file_path)\n",
    "shuffled_data = preprocessed_data.sample(frac=1, random_state=42)\n",
    "\n",
    "train_data, temp_data = train_test_split(shuffled_data, test_size=0.3, random_state=42)\n",
    "val_data, test_data = train_test_split(temp_data, test_size=0.5, random_state=42)\n",
    "train_path = \"preprocessed/netflix_train.csv\"\n",
    "val_path = \"preprocessed/netflix_val.csv\"\n",
    "test_path = \"preprocessed/netflix_test.csv\"\n",
    "\n",
    "train_data.to_csv(train_path, index=False)\n",
    "val_data.to_csv(val_path, index=False)\n",
    "test_data.to_csv(test_path, index=False)\n",
    "\n",
    "print(f\"train sample：{len(train_data)}\")\n",
    "print(f\"val sample：{len(val_data)}\")\n",
    "print(f\"test sample：{len(test_data)}\")"
   ]
  }
 ],
 "metadata": {
  "kernelspec": {
   "display_name": "Python 3",
   "language": "python",
   "name": "python3"
  },
  "language_info": {
   "codemirror_mode": {
    "name": "ipython",
    "version": 3
   },
   "file_extension": ".py",
   "mimetype": "text/x-python",
   "name": "python",
   "nbconvert_exporter": "python",
   "pygments_lexer": "ipython3",
   "version": "3.9.4"
  },
  "orig_nbformat": 4,
  "vscode": {
   "interpreter": {
    "hash": "865d8b2eb28e274047ba64063dfb6a2aabf0dfec4905d304d7a76618dae6fdd4"
   }
  }
 },
 "nbformat": 4,
 "nbformat_minor": 2
}
