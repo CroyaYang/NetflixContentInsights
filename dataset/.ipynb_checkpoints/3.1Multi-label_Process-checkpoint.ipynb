{
 "cells": [
  {
   "attachments": {},
   "cell_type": "markdown",
   "id": "4b89b0d2",
   "metadata": {},
   "source": [
    "# Multi-label processing"
   ]
  },
  {
   "attachments": {},
   "cell_type": "markdown",
   "id": "70e20e06",
   "metadata": {},
   "source": [
    "As to the samples to be categorized there may be more than one label obtained. So for each sample, the label should be a binary vector indicating whether each possible category exists or not."
   ]
  },
  {
   "cell_type": "code",
   "execution_count": 1,
   "id": "4ad65ef9",
   "metadata": {},
   "outputs": [],
   "source": [
    "import pandas as pd"
   ]
  },
  {
   "cell_type": "code",
   "execution_count": 2,
   "id": "30df65d4",
   "metadata": {},
   "outputs": [
    {
     "name": "stdout",
     "output_type": "stream",
     "text": [
      "   id                  title rating  \\\n",
      "0  s1   Dick Johnson Is Dead  PG-13   \n",
      "1  s2          Blood & Water  TV-MA   \n",
      "2  s3              Ganglands  TV-MA   \n",
      "3  s4  Jailbirds New Orleans  TV-MA   \n",
      "4  s5           Kota Factory  TV-MA   \n",
      "\n",
      "                                            category  \\\n",
      "0                                      Documentaries   \n",
      "1    International TV Shows, TV Dramas, TV Mysteries   \n",
      "2  Crime TV Shows, International TV Shows, TV Act...   \n",
      "3                             Docuseries, Reality TV   \n",
      "4  International TV Shows, Romantic TV Shows, TV ...   \n",
      "\n",
      "                                         description  \n",
      "0  As her father nears the end of his life, filmm...  \n",
      "1  After crossing paths at a party, a Cape Town t...  \n",
      "2  To protect his family from a powerful drug lor...  \n",
      "3  Feuds, flirtations and toilet talk go down amo...  \n",
      "4  In a city of coaching centers known to train I...  \n"
     ]
    }
   ],
   "source": [
    "file_path = \"original/netflix_titles.csv\"\n",
    "original_data = pd.read_csv(file_path)\n",
    "\n",
    "# Select only the columns we need\n",
    "selected_columns = ['show_id', 'title', 'rating', 'listed_in', 'description']\n",
    "filtered_data = original_data[selected_columns]\n",
    "\n",
    "# rename the colume for later use\n",
    "filtered_data.columns = ['id', 'title', 'rating', 'category', 'description']\n",
    "\n",
    "print(filtered_data.head())"
   ]
  },
  {
   "cell_type": "code",
   "execution_count": 3,
   "id": "62803955",
   "metadata": {},
   "outputs": [
    {
     "name": "stdout",
     "output_type": "stream",
     "text": [
      "All label： {'Children & Family Movies', 'Reality TV', 'TV Mysteries', 'Romantic Movies', 'Stand-Up Comedy & Talk Shows', 'TV Dramas', 'Movies', 'Anime Features', 'TV Shows', 'Thrillers', 'Teen TV Shows', 'TV Thrillers', 'TV Sci-Fi & Fantasy', 'Horror Movies', 'Sports Movies', 'Classic Movies', 'Faith & Spirituality', 'Stand-Up Comedy', 'Classic & Cult TV', 'Dramas', 'Anime Series', 'International Movies', 'TV Horror', 'TV Comedies', 'Romantic TV Shows', 'Korean TV Shows', 'Science & Nature TV', \"Kids' TV\", 'Documentaries', 'International TV Shows', 'Music & Musicals', 'Crime TV Shows', 'Cult Movies', 'Docuseries', 'Comedies', 'Sci-Fi & Fantasy', 'British TV Shows', 'Spanish-Language TV Shows', 'Action & Adventure', 'Independent Movies', 'LGBTQ Movies', 'TV Action & Adventure'}\n"
     ]
    },
    {
     "name": "stderr",
     "output_type": "stream",
     "text": [
      "C:\\Users\\Croya\\AppData\\Local\\Temp\\ipykernel_10368\\3076845634.py:1: SettingWithCopyWarning: \n",
      "A value is trying to be set on a copy of a slice from a DataFrame.\n",
      "Try using .loc[row_indexer,col_indexer] = value instead\n",
      "\n",
      "See the caveats in the documentation: https://pandas.pydata.org/pandas-docs/stable/user_guide/indexing.html#returning-a-view-versus-a-copy\n",
      "  filtered_data['category'] = filtered_data['category'].apply(lambda x: [label.strip() for label in x.split(',')])\n",
      "C:\\Users\\Croya\\AppData\\Local\\Temp\\ipykernel_10368\\3076845634.py:8: SettingWithCopyWarning: \n",
      "A value is trying to be set on a copy of a slice from a DataFrame.\n",
      "Try using .loc[row_indexer,col_indexer] = value instead\n",
      "\n",
      "See the caveats in the documentation: https://pandas.pydata.org/pandas-docs/stable/user_guide/indexing.html#returning-a-view-versus-a-copy\n",
      "  filtered_data[label] = filtered_data['category'].apply(lambda x: 1 if label in x else 0)\n",
      "C:\\Users\\Croya\\AppData\\Local\\Temp\\ipykernel_10368\\3076845634.py:8: SettingWithCopyWarning: \n",
      "A value is trying to be set on a copy of a slice from a DataFrame.\n",
      "Try using .loc[row_indexer,col_indexer] = value instead\n",
      "\n",
      "See the caveats in the documentation: https://pandas.pydata.org/pandas-docs/stable/user_guide/indexing.html#returning-a-view-versus-a-copy\n",
      "  filtered_data[label] = filtered_data['category'].apply(lambda x: 1 if label in x else 0)\n",
      "C:\\Users\\Croya\\AppData\\Local\\Temp\\ipykernel_10368\\3076845634.py:8: SettingWithCopyWarning: \n",
      "A value is trying to be set on a copy of a slice from a DataFrame.\n",
      "Try using .loc[row_indexer,col_indexer] = value instead\n",
      "\n",
      "See the caveats in the documentation: https://pandas.pydata.org/pandas-docs/stable/user_guide/indexing.html#returning-a-view-versus-a-copy\n",
      "  filtered_data[label] = filtered_data['category'].apply(lambda x: 1 if label in x else 0)\n",
      "C:\\Users\\Croya\\AppData\\Local\\Temp\\ipykernel_10368\\3076845634.py:8: SettingWithCopyWarning: \n",
      "A value is trying to be set on a copy of a slice from a DataFrame.\n",
      "Try using .loc[row_indexer,col_indexer] = value instead\n",
      "\n",
      "See the caveats in the documentation: https://pandas.pydata.org/pandas-docs/stable/user_guide/indexing.html#returning-a-view-versus-a-copy\n",
      "  filtered_data[label] = filtered_data['category'].apply(lambda x: 1 if label in x else 0)\n",
      "C:\\Users\\Croya\\AppData\\Local\\Temp\\ipykernel_10368\\3076845634.py:8: SettingWithCopyWarning: \n",
      "A value is trying to be set on a copy of a slice from a DataFrame.\n",
      "Try using .loc[row_indexer,col_indexer] = value instead\n",
      "\n",
      "See the caveats in the documentation: https://pandas.pydata.org/pandas-docs/stable/user_guide/indexing.html#returning-a-view-versus-a-copy\n",
      "  filtered_data[label] = filtered_data['category'].apply(lambda x: 1 if label in x else 0)\n",
      "C:\\Users\\Croya\\AppData\\Local\\Temp\\ipykernel_10368\\3076845634.py:8: SettingWithCopyWarning: \n",
      "A value is trying to be set on a copy of a slice from a DataFrame.\n",
      "Try using .loc[row_indexer,col_indexer] = value instead\n",
      "\n",
      "See the caveats in the documentation: https://pandas.pydata.org/pandas-docs/stable/user_guide/indexing.html#returning-a-view-versus-a-copy\n",
      "  filtered_data[label] = filtered_data['category'].apply(lambda x: 1 if label in x else 0)\n"
     ]
    }
   ],
   "source": [
    "# Apply a lambda function to split the 'category' column into a list of labels, stripping any leading or trailing whitespaces\n",
    "filtered_data['category'] = filtered_data['category'].apply(lambda x: [label.strip() for label in x.split(',')])\n",
    "\n",
    "# Create a set containing all unique labels from the 'category' column\n",
    "all_labels = set(label for labels in filtered_data['category'] for label in labels)\n",
    "\n",
    "# Print all unique labels\n",
    "print(\"All label：\", all_labels)\n",
    "\n",
    "# Iterate through each unique label\n",
    "for label in all_labels:\n",
    "    # # Create a new binary column for each unique label, indicating the presence (1) or absence (0) of the label in the 'category' list\n",
    "    filtered_data[label] = filtered_data['category'].apply(lambda x: 1 if label in x else 0)\n",
    "\n",
    "# Drop the original 'category' column, as it has been replaced by binary columns for each unique label\n",
    "filtered_data.drop('category', axis=1, inplace=True)\n",
    "\n",
    "# print(filtered_data.head())"
   ]
  },
  {
   "cell_type": "code",
   "execution_count": 4,
   "id": "7d2ab6aa",
   "metadata": {},
   "outputs": [],
   "source": [
    "# Save multi-tagged processed datasets for text pre-processing and dataset segmentation\n",
    "output_path = \"Task3preprocessed/netflix.tsv\"\n",
    "filtered_data.to_csv(output_path, index=False) "
   ]
  }
 ],
 "metadata": {
  "kernelspec": {
   "display_name": "Python 3 (ipykernel)",
   "language": "python",
   "name": "python3"
  },
  "language_info": {
   "codemirror_mode": {
    "name": "ipython",
    "version": 3
   },
   "file_extension": ".py",
   "mimetype": "text/x-python",
   "name": "python",
   "nbconvert_exporter": "python",
   "pygments_lexer": "ipython3",
   "version": "3.9.4"
  },
  "vscode": {
   "interpreter": {
    "hash": "865d8b2eb28e274047ba64063dfb6a2aabf0dfec4905d304d7a76618dae6fdd4"
   }
  }
 },
 "nbformat": 4,
 "nbformat_minor": 5
}
