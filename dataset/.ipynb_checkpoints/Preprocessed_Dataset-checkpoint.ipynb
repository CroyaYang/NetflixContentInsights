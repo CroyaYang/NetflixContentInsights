{
 "cells": [
  {
   "cell_type": "code",
   "execution_count": 10,
   "id": "2cee327e-877a-494f-b86f-5c1c29570862",
   "metadata": {},
   "outputs": [],
   "source": [
    "import pandas as pd\n",
    "from sklearn.model_selection import train_test_split"
   ]
  },
  {
   "cell_type": "markdown",
   "id": "c02d74eb-d1b3-416d-829f-30763862afd0",
   "metadata": {},
   "source": [
    "## Simplify multiple labels into a single label"
   ]
  },
  {
   "cell_type": "code",
   "execution_count": 11,
   "id": "28ff7c44-9fef-41e8-8d8a-ee1c3515865a",
   "metadata": {},
   "outputs": [],
   "source": [
    "df = pd.read_csv('original/netflix_titles.csv')\n",
    "\n",
    "# handle the list_in\n",
    "df['listed_in'] = df['listed_in'].str.replace('International TV Shows|International Movies|Independent Movies', '', regex=True)\n",
    "df['listed_in'] = df['listed_in'].apply(lambda x: x[1:] if isinstance(x, str) and x.startswith(',') else x)\n",
    "df['listed_in'] = df['listed_in'].str.split(',').str[0]\n",
    "\n",
    "df.to_csv('original/netflix_titles_single_label.csv', index=False)"
   ]
  },
  {
   "cell_type": "markdown",
   "id": "0b287945-1e8d-460e-8ae9-c8d57e11e9ab",
   "metadata": {},
   "source": [
    "## Divided the original dataset"
   ]
  },
  {
   "cell_type": "markdown",
   "id": "4572ee9f-20ce-47dc-9d31-6ff240566596",
   "metadata": {},
   "source": [
    "### The division ratio is 7:1.5:1.5"
   ]
  },
  {
   "cell_type": "code",
   "execution_count": 12,
   "id": "3e5374ed-9b4b-4ff1-9208-9e6303446d8d",
   "metadata": {},
   "outputs": [],
   "source": [
    "df = pd.read_csv('original/netflix_titles_single_label.csv')\n",
    "\n",
    "selected_columns = ['show_id', 'listed_in', 'title', 'description','rating']\n",
    "df_selected = df[selected_columns]\n",
    "\n",
    "df_selected.columns = ['id', 'category', 'title', 'description','rating']\n",
    "\n",
    "df_train, df_temp = train_test_split(df_selected, test_size=0.3, random_state=42)\n",
    "df_val, df_test = train_test_split(df_temp, test_size=0.5, random_state=42)\n",
    "\n",
    "df_train.to_csv('preprocessed/netflix_train.csv', index=False)\n",
    "df_val.to_csv('preprocessed/netflix_val.csv', index=False)\n",
    "df_test.to_csv('preprocessed/netflix_test.csv', index=False)"
   ]
  },
  {
   "cell_type": "markdown",
   "id": "a8c59f8a-8dea-48c1-9868-5e82b477c187",
   "metadata": {},
   "source": [
    "## Preprocess each part"
   ]
  },
  {
   "cell_type": "code",
   "execution_count": 13,
   "id": "a5ccd1d0-5a9f-4663-bb80-c12023ee4f95",
   "metadata": {},
   "outputs": [],
   "source": [
    "from nltk.corpus import stopwords\n",
    "from nltk.tokenize import word_tokenize\n",
    "from nltk.stem import PorterStemmer\n",
    "import string"
   ]
  },
  {
   "cell_type": "code",
   "execution_count": null,
   "id": "b55bb0bc-0d2e-416e-ac2f-bb909a2a2bee",
   "metadata": {},
   "outputs": [],
   "source": [
    "import nltk\n",
    "nltk.download('stopwords')\n",
    "nltk.download('punkt')"
   ]
  },
  {
   "cell_type": "code",
   "execution_count": null,
   "id": "8ca219a2-4318-4893-a7ab-190165890040",
   "metadata": {},
   "outputs": [],
   "source": [
    "df_train = pd.read_csv('netflix_train.csv')\n",
    "df_val = pd.read_csv('netflix_val.csv')\n",
    "df_test = pd.read_csv('netflix_test.csv')"
   ]
  }
 ],
 "metadata": {
  "kernelspec": {
   "display_name": "Python 3 (ipykernel)",
   "language": "python",
   "name": "python3"
  },
  "language_info": {
   "codemirror_mode": {
    "name": "ipython",
    "version": 3
   },
   "file_extension": ".py",
   "mimetype": "text/x-python",
   "name": "python",
   "nbconvert_exporter": "python",
   "pygments_lexer": "ipython3",
   "version": "3.9.4"
  }
 },
 "nbformat": 4,
 "nbformat_minor": 5
}
