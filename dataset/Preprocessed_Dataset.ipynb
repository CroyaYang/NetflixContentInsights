{
 "cells": [
  {
   "cell_type": "code",
   "execution_count": 1,
   "id": "2cee327e-877a-494f-b86f-5c1c29570862",
   "metadata": {},
   "outputs": [],
   "source": [
    "import pandas as pd\n",
    "from sklearn.model_selection import train_test_split"
   ]
  },
  {
   "cell_type": "raw",
   "id": "b41e9a86-2d63-4c3a-bd4d-7f32887869cc",
   "metadata": {},
   "source": [
    "## Divided "
   ]
  },
  {
   "cell_type": "code",
   "execution_count": 4,
   "id": "3e5374ed-9b4b-4ff1-9208-9e6303446d8d",
   "metadata": {},
   "outputs": [],
   "source": [
    "df = pd.read_csv('original/netflix_titles.csv')\n",
    "\n",
    "selected_columns = ['show_id', 'listed_in', 'title', 'description']\n",
    "df_selected = df[selected_columns]\n",
    "\n",
    "df_selected.columns = ['id', 'category', 'title', 'description']\n",
    "\n",
    "df_train, df_temp = train_test_split(df_selected, test_size=0.3, random_state=42)\n",
    "df_val, df_test = train_test_split(df_temp, test_size=0.5, random_state=42)\n",
    "\n",
    "df_train.to_csv('preprocessed/netflix_train.csv', index=False)\n",
    "df_val.to_csv('preprocessed/netflix_val.csv', index=False)\n",
    "df_test.to_csv('preprocessed/netflix_test.csv', index=False)"
   ]
  },
  {
   "cell_type": "code",
   "execution_count": null,
   "id": "8a467942-3c33-41ca-a09f-35b26eefd34b",
   "metadata": {},
   "outputs": [],
   "source": []
  }
 ],
 "metadata": {
  "kernelspec": {
   "display_name": "Python 3 (ipykernel)",
   "language": "python",
   "name": "python3"
  },
  "language_info": {
   "codemirror_mode": {
    "name": "ipython",
    "version": 3
   },
   "file_extension": ".py",
   "mimetype": "text/x-python",
   "name": "python",
   "nbconvert_exporter": "python",
   "pygments_lexer": "ipython3",
   "version": "3.9.4"
  }
 },
 "nbformat": 4,
 "nbformat_minor": 5
}
