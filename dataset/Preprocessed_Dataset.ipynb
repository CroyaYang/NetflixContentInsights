{
 "cells": [
  {
   "cell_type": "code",
   "execution_count": 1,
   "id": "4ad65ef9",
   "metadata": {},
   "outputs": [
    {
     "name": "stdout",
     "output_type": "stream",
     "text": [
      "   id                  title rating  \\\n",
      "0  s1   Dick Johnson Is Dead  PG-13   \n",
      "1  s2          Blood & Water  TV-MA   \n",
      "2  s3              Ganglands  TV-MA   \n",
      "3  s4  Jailbirds New Orleans  TV-MA   \n",
      "4  s5           Kota Factory  TV-MA   \n",
      "\n",
      "                                            category  \\\n",
      "0                                      Documentaries   \n",
      "1    International TV Shows, TV Dramas, TV Mysteries   \n",
      "2  Crime TV Shows, International TV Shows, TV Act...   \n",
      "3                             Docuseries, Reality TV   \n",
      "4  International TV Shows, Romantic TV Shows, TV ...   \n",
      "\n",
      "                                         description  \n",
      "0  As her father nears the end of his life, filmm...  \n",
      "1  After crossing paths at a party, a Cape Town t...  \n",
      "2  To protect his family from a powerful drug lor...  \n",
      "3  Feuds, flirtations and toilet talk go down amo...  \n",
      "4  In a city of coaching centers known to train I...  \n"
     ]
    }
   ],
   "source": [
    "import pandas as pd\n",
    "\n",
    "file_path = \"original/netflix_titles.csv\"\n",
    "original_data = pd.read_csv(file_path)\n",
    "\n",
    "selected_columns = ['show_id', 'title', 'rating', 'listed_in', 'description']\n",
    "filtered_data = original_data[selected_columns]\n",
    "\n",
    "filtered_data.columns = ['id', 'title', 'rating', 'category', 'description']\n",
    "\n",
    "print(filtered_data.head())"
   ]
  },
  {
   "cell_type": "code",
   "execution_count": 2,
   "id": "62803955",
   "metadata": {},
   "outputs": [
    {
     "name": "stdout",
     "output_type": "stream",
     "text": [
      "   id                  title rating  \\\n",
      "0  s1   Dick Johnson Is Dead  PG-13   \n",
      "1  s2          Blood & Water  TV-MA   \n",
      "2  s3              Ganglands  TV-MA   \n",
      "3  s4  Jailbirds New Orleans  TV-MA   \n",
      "4  s5           Kota Factory  TV-MA   \n",
      "\n",
      "                                         description  Crime TV Shows  Movies  \\\n",
      "0  As her father nears the end of his life, filmm...               0       0   \n",
      "1  After crossing paths at a party, a Cape Town t...               0       0   \n",
      "2  To protect his family from a powerful drug lor...               1       0   \n",
      "3  Feuds, flirtations and toilet talk go down amo...               0       0   \n",
      "4  In a city of coaching centers known to train I...               0       0   \n",
      "\n",
      "   TV Thrillers  Classic & Cult TV  TV Shows  Stand-Up Comedy  ...  \\\n",
      "0             0                  0         0                0  ...   \n",
      "1             0                  0         0                0  ...   \n",
      "2             0                  0         0                0  ...   \n",
      "3             0                  0         0                0  ...   \n",
      "4             0                  0         0                0  ...   \n",
      "\n",
      "   International TV Shows  Reality TV  Documentaries  \\\n",
      "0                       0           0              1   \n",
      "1                       1           0              0   \n",
      "2                       1           0              0   \n",
      "3                       0           1              0   \n",
      "4                       1           0              0   \n",
      "\n",
      "   Children & Family Movies  International Movies  Science & Nature TV  \\\n",
      "0                         0                     0                    0   \n",
      "1                         0                     0                    0   \n",
      "2                         0                     0                    0   \n",
      "3                         0                     0                    0   \n",
      "4                         0                     0                    0   \n",
      "\n",
      "   Classic Movies  Anime Series  Sci-Fi & Fantasy  Horror Movies  \n",
      "0               0             0                 0              0  \n",
      "1               0             0                 0              0  \n",
      "2               0             0                 0              0  \n",
      "3               0             0                 0              0  \n",
      "4               0             0                 0              0  \n",
      "\n",
      "[5 rows x 46 columns]\n"
     ]
    },
    {
     "name": "stderr",
     "output_type": "stream",
     "text": [
      "C:\\Users\\Croya\\AppData\\Local\\Temp\\ipykernel_20908\\2053736744.py:2: SettingWithCopyWarning: \n",
      "A value is trying to be set on a copy of a slice from a DataFrame.\n",
      "Try using .loc[row_indexer,col_indexer] = value instead\n",
      "\n",
      "See the caveats in the documentation: https://pandas.pydata.org/pandas-docs/stable/user_guide/indexing.html#returning-a-view-versus-a-copy\n",
      "  filtered_data['category'] = filtered_data['category'].apply(lambda x: [label.strip() for label in x.split(',')])\n",
      "C:\\Users\\Croya\\AppData\\Local\\Temp\\ipykernel_20908\\2053736744.py:9: SettingWithCopyWarning: \n",
      "A value is trying to be set on a copy of a slice from a DataFrame.\n",
      "Try using .loc[row_indexer,col_indexer] = value instead\n",
      "\n",
      "See the caveats in the documentation: https://pandas.pydata.org/pandas-docs/stable/user_guide/indexing.html#returning-a-view-versus-a-copy\n",
      "  filtered_data[label] = filtered_data['category'].apply(lambda x: 1 if label in x else 0)\n",
      "C:\\Users\\Croya\\AppData\\Local\\Temp\\ipykernel_20908\\2053736744.py:9: SettingWithCopyWarning: \n",
      "A value is trying to be set on a copy of a slice from a DataFrame.\n",
      "Try using .loc[row_indexer,col_indexer] = value instead\n",
      "\n",
      "See the caveats in the documentation: https://pandas.pydata.org/pandas-docs/stable/user_guide/indexing.html#returning-a-view-versus-a-copy\n",
      "  filtered_data[label] = filtered_data['category'].apply(lambda x: 1 if label in x else 0)\n",
      "C:\\Users\\Croya\\AppData\\Local\\Temp\\ipykernel_20908\\2053736744.py:9: SettingWithCopyWarning: \n",
      "A value is trying to be set on a copy of a slice from a DataFrame.\n",
      "Try using .loc[row_indexer,col_indexer] = value instead\n",
      "\n",
      "See the caveats in the documentation: https://pandas.pydata.org/pandas-docs/stable/user_guide/indexing.html#returning-a-view-versus-a-copy\n",
      "  filtered_data[label] = filtered_data['category'].apply(lambda x: 1 if label in x else 0)\n",
      "C:\\Users\\Croya\\AppData\\Local\\Temp\\ipykernel_20908\\2053736744.py:9: SettingWithCopyWarning: \n",
      "A value is trying to be set on a copy of a slice from a DataFrame.\n",
      "Try using .loc[row_indexer,col_indexer] = value instead\n",
      "\n",
      "See the caveats in the documentation: https://pandas.pydata.org/pandas-docs/stable/user_guide/indexing.html#returning-a-view-versus-a-copy\n",
      "  filtered_data[label] = filtered_data['category'].apply(lambda x: 1 if label in x else 0)\n",
      "C:\\Users\\Croya\\AppData\\Local\\Temp\\ipykernel_20908\\2053736744.py:9: SettingWithCopyWarning: \n",
      "A value is trying to be set on a copy of a slice from a DataFrame.\n",
      "Try using .loc[row_indexer,col_indexer] = value instead\n",
      "\n",
      "See the caveats in the documentation: https://pandas.pydata.org/pandas-docs/stable/user_guide/indexing.html#returning-a-view-versus-a-copy\n",
      "  filtered_data[label] = filtered_data['category'].apply(lambda x: 1 if label in x else 0)\n",
      "C:\\Users\\Croya\\AppData\\Local\\Temp\\ipykernel_20908\\2053736744.py:9: SettingWithCopyWarning: \n",
      "A value is trying to be set on a copy of a slice from a DataFrame.\n",
      "Try using .loc[row_indexer,col_indexer] = value instead\n",
      "\n",
      "See the caveats in the documentation: https://pandas.pydata.org/pandas-docs/stable/user_guide/indexing.html#returning-a-view-versus-a-copy\n",
      "  filtered_data[label] = filtered_data['category'].apply(lambda x: 1 if label in x else 0)\n"
     ]
    }
   ],
   "source": [
    "\n",
    "# 去除标签列中的空格\n",
    "filtered_data['category'] = filtered_data['category'].apply(lambda x: [label.strip() for label in x.split(',')])\n",
    "\n",
    "# 获取所有唯一的标签\n",
    "all_labels = set(label for labels in filtered_data['category'] for label in labels)\n",
    "\n",
    "# 创建二进制列\n",
    "for label in all_labels:\n",
    "    filtered_data[label] = filtered_data['category'].apply(lambda x: 1 if label in x else 0)\n",
    "\n",
    "# 删除原始的 category 列\n",
    "filtered_data.drop('category', axis=1, inplace=True)\n",
    "\n",
    "\n",
    "\n",
    "# 显示保存后的数据集的前几行\n",
    "print(filtered_data.head())\n"
   ]
  },
  {
   "cell_type": "code",
   "execution_count": 3,
   "id": "7d2ab6aa",
   "metadata": {},
   "outputs": [],
   "source": [
    "output_path = \"preprocessed/netflix.csv\"\n",
    "filtered_data.to_csv(output_path, index=False)"
   ]
  },
  {
   "cell_type": "code",
   "execution_count": 4,
   "id": "99a7306f",
   "metadata": {},
   "outputs": [],
   "source": [
    "import pandas as pd\n",
    "import re\n",
    "from nltk.tokenize import word_tokenize\n",
    "from nltk.corpus import stopwords\n",
    "from nltk.stem import PorterStemmer"
   ]
  },
  {
   "cell_type": "code",
   "execution_count": 5,
   "id": "3968d3f5",
   "metadata": {},
   "outputs": [],
   "source": [
    "def preprocess_text(text):\n",
    "\n",
    "    text = text.lower()\n",
    "    \n",
    "    text = re.sub(r'[^\\w\\s]', '', text)\n",
    "    \n",
    "    tokens = word_tokenize(text)\n",
    "    \n",
    "    stop_words = set(stopwords.words('english'))\n",
    "    tokens = [token for token in tokens if token not in stop_words]\n",
    "    \n",
    "    stemmer = PorterStemmer()\n",
    "    tokens = [stemmer.stem(token) for token in tokens]\n",
    "    \n",
    "    return ' '.join(tokens)\n"
   ]
  },
  {
   "cell_type": "code",
   "execution_count": 6,
   "id": "6d964364",
   "metadata": {},
   "outputs": [],
   "source": [
    "file_path = \"preprocessed/netflix.csv\"\n",
    "preprocessed_data = pd.read_csv(file_path)\n",
    "\n",
    "preprocessed_data['description'] = preprocessed_data['description'].apply(preprocess_text)"
   ]
  },
  {
   "cell_type": "code",
   "execution_count": 7,
   "id": "db3b4754",
   "metadata": {},
   "outputs": [
    {
     "name": "stdout",
     "output_type": "stream",
     "text": [
      "   id                  title rating  \\\n",
      "0  s1   Dick Johnson Is Dead  PG-13   \n",
      "1  s2          Blood & Water  TV-MA   \n",
      "2  s3              Ganglands  TV-MA   \n",
      "3  s4  Jailbirds New Orleans  TV-MA   \n",
      "4  s5           Kota Factory  TV-MA   \n",
      "\n",
      "                                         description  Crime TV Shows  Movies  \\\n",
      "0  father near end life filmmak kirsten johnson s...               0       0   \n",
      "1  cross path parti cape town teen set prove whet...               0       0   \n",
      "2  protect famili power drug lord skill thief meh...               1       0   \n",
      "3  feud flirtat toilet talk go among incarcer wom...               0       0   \n",
      "4  citi coach center known train india finest col...               0       0   \n",
      "\n",
      "   TV Thrillers  Classic & Cult TV  TV Shows  Stand-Up Comedy  ...  \\\n",
      "0             0                  0         0                0  ...   \n",
      "1             0                  0         0                0  ...   \n",
      "2             0                  0         0                0  ...   \n",
      "3             0                  0         0                0  ...   \n",
      "4             0                  0         0                0  ...   \n",
      "\n",
      "   International TV Shows  Reality TV  Documentaries  \\\n",
      "0                       0           0              1   \n",
      "1                       1           0              0   \n",
      "2                       1           0              0   \n",
      "3                       0           1              0   \n",
      "4                       1           0              0   \n",
      "\n",
      "   Children & Family Movies  International Movies  Science & Nature TV  \\\n",
      "0                         0                     0                    0   \n",
      "1                         0                     0                    0   \n",
      "2                         0                     0                    0   \n",
      "3                         0                     0                    0   \n",
      "4                         0                     0                    0   \n",
      "\n",
      "   Classic Movies  Anime Series  Sci-Fi & Fantasy  Horror Movies  \n",
      "0               0             0                 0              0  \n",
      "1               0             0                 0              0  \n",
      "2               0             0                 0              0  \n",
      "3               0             0                 0              0  \n",
      "4               0             0                 0              0  \n",
      "\n",
      "[5 rows x 46 columns]\n"
     ]
    }
   ],
   "source": [
    "output_path = \"preprocessed/netflix_processed.csv\"\n",
    "preprocessed_data.to_csv(output_path, index=False)\n",
    "\n",
    "print(preprocessed_data.head())"
   ]
  },
  {
   "cell_type": "code",
   "execution_count": 8,
   "id": "aed07612",
   "metadata": {},
   "outputs": [],
   "source": [
    "from sklearn.model_selection import train_test_split\n",
    "\n",
    "file_path = \"preprocessed/netflix_processed.csv\"\n",
    "preprocessed_data = pd.read_csv(file_path)"
   ]
  },
  {
   "cell_type": "code",
   "execution_count": 9,
   "id": "55093527",
   "metadata": {},
   "outputs": [],
   "source": [
    "shuffled_data = preprocessed_data.sample(frac=1, random_state=42)\n",
    "\n",
    "train_data, temp_data = train_test_split(shuffled_data, test_size=0.3, random_state=42)\n",
    "val_data, test_data = train_test_split(temp_data, test_size=0.5, random_state=42)"
   ]
  },
  {
   "cell_type": "code",
   "execution_count": 10,
   "id": "4c8afd94",
   "metadata": {},
   "outputs": [
    {
     "name": "stdout",
     "output_type": "stream",
     "text": [
      "train sample：6164\n",
      "val sample：1321\n",
      "test sample：1322\n"
     ]
    }
   ],
   "source": [
    "train_path = \"preprocessed/netflix_train.csv\"\n",
    "val_path = \"preprocessed/netflix_val.csv\"\n",
    "test_path = \"preprocessed/netflix_test.csv\"\n",
    "\n",
    "train_data.to_csv(train_path, index=False)\n",
    "val_data.to_csv(val_path, index=False)\n",
    "test_data.to_csv(test_path, index=False)\n",
    "\n",
    "# 输出文件中样本数目\n",
    "print(f\"train sample：{len(train_data)}\")\n",
    "print(f\"val sample：{len(val_data)}\")\n",
    "print(f\"test sample：{len(test_data)}\")"
   ]
  }
 ],
 "metadata": {
  "kernelspec": {
   "display_name": "Python 3",
   "language": "python",
   "name": "python3"
  },
  "language_info": {
   "codemirror_mode": {
    "name": "ipython",
    "version": 3
   },
   "file_extension": ".py",
   "mimetype": "text/x-python",
   "name": "python",
   "nbconvert_exporter": "python",
   "pygments_lexer": "ipython3",
   "version": "3.9.4"
  },
  "vscode": {
   "interpreter": {
    "hash": "865d8b2eb28e274047ba64063dfb6a2aabf0dfec4905d304d7a76618dae6fdd4"
   }
  }
 },
 "nbformat": 4,
 "nbformat_minor": 5
}
